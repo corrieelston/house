{
 "cells": [
  {
   "cell_type": "code",
   "execution_count": 81,
   "metadata": {
    "collapsed": true
   },
   "outputs": [],
   "source": [
    "import time\n",
    "\n",
    "import pandas as pd\n",
    "import numpy as np\n",
    "import matplotlib.pyplot as plt\n",
    "\n",
    "from sklearn import linear_model, ensemble, grid_search\n",
    "from sklearn import cross_validation, metrics\n",
    "from sklearn.externals import joblib\n",
    "\n",
    "pd.options.display.max_columns = 999\n",
    "pd.options.display.max_rows = 999"
   ]
  },
  {
   "cell_type": "code",
   "execution_count": 82,
   "metadata": {
    "collapsed": true
   },
   "outputs": [],
   "source": [
    "timestamp = time.strftime(\"%Y-%m-%d-%H-%M-%S\")\n",
    "model_name = 'ensemble'"
   ]
  },
  {
   "cell_type": "code",
   "execution_count": 83,
   "metadata": {
    "collapsed": false
   },
   "outputs": [
    {
     "data": {
      "text/plain": [
       "'\\nmodels/ridgecv_minimal-2017-01-16-18-23-47.pkl\\nmodels/ridge_minimal-2017-01-16-18-44-18.pkl\\nmodels/rf_minimal-2017-01-16-18-16-10.pkl\\nmodels/lin-minimal-2017-01-16-18-22-30.pkl\\nmodels/ada-minimal-2017-01-16-18-31-01.pkl\\nmodels/gb-grid-minimal-2017-01-16-18-30-48.pkl\\n'"
      ]
     },
     "execution_count": 83,
     "metadata": {},
     "output_type": "execute_result"
    }
   ],
   "source": [
    "'''\n",
    "models/ridgecv_minimal-2017-01-16-18-23-47.pkl\n",
    "models/ridge_minimal-2017-01-16-18-44-18.pkl\n",
    "models/rf_minimal-2017-01-16-18-16-10.pkl\n",
    "models/lin-minimal-2017-01-16-18-22-30.pkl\n",
    "models/ada-minimal-2017-01-16-18-31-01.pkl\n",
    "models/gb-grid-minimal-2017-01-16-18-30-48.pkl\n",
    "'''"
   ]
  },
  {
   "cell_type": "code",
   "execution_count": 84,
   "metadata": {
    "collapsed": false
   },
   "outputs": [],
   "source": [
    "ridge = joblib.load('models/ridge_minimal-2017-01-16-18-44-18.pkl')\n",
    "ridge_cv = joblib.load('models/ridgecv_minimal-2017-01-16-18-23-47.pkl')\n",
    "rf = joblib.load('models/rf_minimal-2017-01-16-18-16-10.pkl')\n",
    "lin = joblib.load('models/lin-minimal-2017-01-16-18-22-30.pkl')\n",
    "elastic = joblib.load('models/ada-minimal-2017-01-16-18-31-01.pkl')\n",
    "ada = joblib.load('models/gb-grid-minimal-2017-01-16-18-30-48.pkl')"
   ]
  },
  {
   "cell_type": "code",
   "execution_count": 85,
   "metadata": {
    "collapsed": true
   },
   "outputs": [],
   "source": [
    "train = pd.read_csv('data/train_minimal.csv')\n",
    "test = pd.read_csv('data/test_minimal.csv')"
   ]
  },
  {
   "cell_type": "code",
   "execution_count": 86,
   "metadata": {
    "collapsed": false
   },
   "outputs": [],
   "source": [
    "X = train.ix[:,:-2]\n",
    "y = train.ix[:,-2:-1]\n",
    "\n",
    "# X_train, X_test, y_train, y_test = cross_validation.train_test_split(X, y, test_size=0.2, random_state=42)"
   ]
  },
  {
   "cell_type": "code",
   "execution_count": 87,
   "metadata": {
    "collapsed": false
   },
   "outputs": [
    {
     "name": "stderr",
     "output_type": "stream",
     "text": [
      "[Parallel(n_jobs=1)]: Done   1 tasks       | elapsed:    0.0s\n",
      "[Parallel(n_jobs=1)]: Done   4 tasks       | elapsed:    0.0s\n",
      "[Parallel(n_jobs=1)]: Done   7 tasks       | elapsed:    0.0s\n",
      "[Parallel(n_jobs=1)]: Done  12 tasks       | elapsed:    0.0s\n",
      "[Parallel(n_jobs=1)]: Done  17 tasks       | elapsed:    0.0s\n",
      "[Parallel(n_jobs=1)]: Done  24 tasks       | elapsed:    0.0s\n",
      "[Parallel(n_jobs=1)]: Done  31 tasks       | elapsed:    0.0s\n",
      "[Parallel(n_jobs=1)]: Done  40 tasks       | elapsed:    0.0s\n",
      "[Parallel(n_jobs=1)]: Done  49 tasks       | elapsed:    0.0s\n",
      "[Parallel(n_jobs=1)]: Done  60 tasks       | elapsed:    0.0s\n",
      "[Parallel(n_jobs=1)]: Done  71 tasks       | elapsed:    0.0s\n",
      "[Parallel(n_jobs=1)]: Done  84 tasks       | elapsed:    0.1s\n",
      "[Parallel(n_jobs=1)]: Done  97 tasks       | elapsed:    0.1s\n",
      "[Parallel(n_jobs=1)]: Done 112 tasks       | elapsed:    0.1s\n",
      "[Parallel(n_jobs=1)]: Done 127 tasks       | elapsed:    0.1s\n",
      "[Parallel(n_jobs=1)]: Done 144 tasks       | elapsed:    0.1s\n",
      "[Parallel(n_jobs=1)]: Done 161 tasks       | elapsed:    0.1s\n",
      "[Parallel(n_jobs=1)]: Done 180 tasks       | elapsed:    0.1s\n",
      "[Parallel(n_jobs=1)]: Done 199 tasks       | elapsed:    0.1s\n",
      "[Parallel(n_jobs=1)]: Done 220 tasks       | elapsed:    0.1s\n",
      "[Parallel(n_jobs=1)]: Done 241 tasks       | elapsed:    0.1s\n",
      "[Parallel(n_jobs=1)]: Done 264 tasks       | elapsed:    0.1s\n",
      "[Parallel(n_jobs=1)]: Done 287 tasks       | elapsed:    0.1s\n",
      "[Parallel(n_jobs=1)]: Done 312 tasks       | elapsed:    0.1s\n",
      "[Parallel(n_jobs=1)]: Done 337 tasks       | elapsed:    0.1s\n",
      "[Parallel(n_jobs=1)]: Done 364 tasks       | elapsed:    0.1s\n",
      "[Parallel(n_jobs=1)]: Done 391 tasks       | elapsed:    0.1s\n",
      "[Parallel(n_jobs=1)]: Done 420 tasks       | elapsed:    0.2s\n",
      "[Parallel(n_jobs=1)]: Done 449 tasks       | elapsed:    0.2s\n",
      "[Parallel(n_jobs=1)]: Done 480 tasks       | elapsed:    0.2s\n",
      "[Parallel(n_jobs=1)]: Done 511 tasks       | elapsed:    0.2s\n",
      "[Parallel(n_jobs=1)]: Done 544 tasks       | elapsed:    0.2s\n",
      "[Parallel(n_jobs=1)]: Done 577 tasks       | elapsed:    0.2s\n",
      "[Parallel(n_jobs=1)]: Done 612 tasks       | elapsed:    0.2s\n",
      "[Parallel(n_jobs=1)]: Done 647 tasks       | elapsed:    0.2s\n",
      "[Parallel(n_jobs=1)]: Done 684 tasks       | elapsed:    0.2s\n",
      "[Parallel(n_jobs=1)]: Done 721 tasks       | elapsed:    0.2s\n",
      "[Parallel(n_jobs=1)]: Done 760 tasks       | elapsed:    0.3s\n",
      "[Parallel(n_jobs=1)]: Done 799 tasks       | elapsed:    0.3s\n",
      "[Parallel(n_jobs=1)]: Done 840 tasks       | elapsed:    0.3s\n",
      "[Parallel(n_jobs=1)]: Done 881 tasks       | elapsed:    0.3s\n",
      "[Parallel(n_jobs=1)]: Done 924 tasks       | elapsed:    0.3s\n",
      "[Parallel(n_jobs=1)]: Done 967 tasks       | elapsed:    0.3s\n",
      "[Parallel(n_jobs=1)]: Done 1012 tasks       | elapsed:    0.3s\n",
      "[Parallel(n_jobs=1)]: Done 1057 tasks       | elapsed:    0.3s\n",
      "[Parallel(n_jobs=1)]: Done 1104 tasks       | elapsed:    0.4s\n",
      "[Parallel(n_jobs=1)]: Done 1151 tasks       | elapsed:    0.4s\n",
      "[Parallel(n_jobs=1)]: Done 1200 tasks       | elapsed:    0.4s\n",
      "[Parallel(n_jobs=1)]: Done 1249 tasks       | elapsed:    0.4s\n",
      "[Parallel(n_jobs=1)]: Done 1300 tasks       | elapsed:    0.4s\n",
      "[Parallel(n_jobs=1)]: Done 1351 tasks       | elapsed:    0.4s\n",
      "[Parallel(n_jobs=1)]: Done 1404 tasks       | elapsed:    0.4s\n",
      "[Parallel(n_jobs=1)]: Done 1457 tasks       | elapsed:    0.5s\n",
      "[Parallel(n_jobs=1)]: Done 1512 tasks       | elapsed:    0.5s\n",
      "[Parallel(n_jobs=1)]: Done 1567 tasks       | elapsed:    0.5s\n",
      "[Parallel(n_jobs=1)]: Done 1624 tasks       | elapsed:    0.5s\n",
      "[Parallel(n_jobs=1)]: Done 1681 tasks       | elapsed:    0.5s\n",
      "[Parallel(n_jobs=1)]: Done 1740 tasks       | elapsed:    0.5s\n",
      "[Parallel(n_jobs=1)]: Done 1799 tasks       | elapsed:    0.6s\n",
      "[Parallel(n_jobs=1)]: Done 1860 tasks       | elapsed:    0.6s\n",
      "[Parallel(n_jobs=1)]: Done 1921 tasks       | elapsed:    0.6s\n",
      "[Parallel(n_jobs=1)]: Done 1984 tasks       | elapsed:    0.6s\n",
      "[Parallel(n_jobs=1)]: Done 2047 tasks       | elapsed:    0.6s\n",
      "[Parallel(n_jobs=1)]: Done 2112 tasks       | elapsed:    0.7s\n",
      "[Parallel(n_jobs=1)]: Done 2177 tasks       | elapsed:    0.7s\n",
      "[Parallel(n_jobs=1)]: Done 2244 tasks       | elapsed:    0.7s\n",
      "[Parallel(n_jobs=1)]: Done 2311 tasks       | elapsed:    0.7s\n",
      "[Parallel(n_jobs=1)]: Done 2380 tasks       | elapsed:    0.7s\n",
      "[Parallel(n_jobs=1)]: Done 2449 tasks       | elapsed:    0.7s\n",
      "[Parallel(n_jobs=1)]: Done 2500 out of 2500 | elapsed:    0.8s finished\n"
     ]
    }
   ],
   "source": [
    "y_pred_ridge = ridge.predict(X)\n",
    "y_pred_ridge_cv = ridge_cv.predict(X)\n",
    "y_pred_rf = rf.predict(X)\n",
    "y_pred_lin = lin.predict(X)\n",
    "y_pred_elastic = elastic.predict(X)\n",
    "y_pred_ada = ada.predict(X)"
   ]
  },
  {
   "cell_type": "code",
   "execution_count": 88,
   "metadata": {
    "collapsed": false
   },
   "outputs": [],
   "source": [
    "df = pd.DataFrame()\n",
    "df['ridge'] = y_pred_ridge.ravel()\n",
    "df['ridge_cv'] = y_pred_ridge_cv.ravel()\n",
    "df['ridge_rf'] = y_pred_rf.ravel()\n",
    "df['ridge_lin'] = y_pred_lin.ravel()\n",
    "df['elastic'] = y_pred_elastic.ravel()\n",
    "df['ada'] = y_pred_ada.ravel()"
   ]
  },
  {
   "cell_type": "code",
   "execution_count": 89,
   "metadata": {
    "collapsed": false
   },
   "outputs": [
    {
     "data": {
      "text/html": [
       "<div>\n",
       "<table border=\"1\" class=\"dataframe\">\n",
       "  <thead>\n",
       "    <tr style=\"text-align: right;\">\n",
       "      <th></th>\n",
       "      <th>ridge</th>\n",
       "      <th>ridge_cv</th>\n",
       "      <th>ridge_rf</th>\n",
       "      <th>ridge_lin</th>\n",
       "      <th>elastic</th>\n",
       "      <th>ada</th>\n",
       "    </tr>\n",
       "  </thead>\n",
       "  <tbody>\n",
       "    <tr>\n",
       "      <th>0</th>\n",
       "      <td>12.235316</td>\n",
       "      <td>12.242104</td>\n",
       "      <td>12.237651</td>\n",
       "      <td>12.244083</td>\n",
       "      <td>12.260445</td>\n",
       "      <td>12.230714</td>\n",
       "    </tr>\n",
       "    <tr>\n",
       "      <th>1</th>\n",
       "      <td>12.190205</td>\n",
       "      <td>12.185178</td>\n",
       "      <td>12.081729</td>\n",
       "      <td>12.208945</td>\n",
       "      <td>11.920018</td>\n",
       "      <td>12.097901</td>\n",
       "    </tr>\n",
       "    <tr>\n",
       "      <th>2</th>\n",
       "      <td>12.301543</td>\n",
       "      <td>12.305539</td>\n",
       "      <td>12.298164</td>\n",
       "      <td>12.303226</td>\n",
       "      <td>12.287614</td>\n",
       "      <td>12.250240</td>\n",
       "    </tr>\n",
       "    <tr>\n",
       "      <th>3</th>\n",
       "      <td>11.998727</td>\n",
       "      <td>12.020666</td>\n",
       "      <td>11.945380</td>\n",
       "      <td>11.975069</td>\n",
       "      <td>12.044322</td>\n",
       "      <td>11.877826</td>\n",
       "    </tr>\n",
       "    <tr>\n",
       "      <th>4</th>\n",
       "      <td>12.593592</td>\n",
       "      <td>12.610431</td>\n",
       "      <td>12.488877</td>\n",
       "      <td>12.588006</td>\n",
       "      <td>12.540978</td>\n",
       "      <td>12.485974</td>\n",
       "    </tr>\n",
       "  </tbody>\n",
       "</table>\n",
       "</div>"
      ],
      "text/plain": [
       "       ridge   ridge_cv   ridge_rf  ridge_lin    elastic        ada\n",
       "0  12.235316  12.242104  12.237651  12.244083  12.260445  12.230714\n",
       "1  12.190205  12.185178  12.081729  12.208945  11.920018  12.097901\n",
       "2  12.301543  12.305539  12.298164  12.303226  12.287614  12.250240\n",
       "3  11.998727  12.020666  11.945380  11.975069  12.044322  11.877826\n",
       "4  12.593592  12.610431  12.488877  12.588006  12.540978  12.485974"
      ]
     },
     "execution_count": 89,
     "metadata": {},
     "output_type": "execute_result"
    }
   ],
   "source": [
    "df.head()"
   ]
  },
  {
   "cell_type": "code",
   "execution_count": 90,
   "metadata": {
    "collapsed": true
   },
   "outputs": [],
   "source": [
    "X = df\n",
    "y = y\n",
    "\n",
    "X_train, X_test, y_train, y_test = cross_validation.train_test_split(X, y, test_size=0.2, random_state=42)"
   ]
  },
  {
   "cell_type": "code",
   "execution_count": 96,
   "metadata": {
    "collapsed": false
   },
   "outputs": [
    {
     "name": "stderr",
     "output_type": "stream",
     "text": [
      "/usr/local/lib/python2.7/dist-packages/ipykernel/__main__.py:2: DataConversionWarning:\n",
      "\n",
      "A column-vector y was passed when a 1d array was expected. Please change the shape of y to (n_samples,), for example using ravel().\n",
      "\n"
     ]
    },
    {
     "data": {
      "text/plain": [
       "RandomForestRegressor(bootstrap=True, criterion='mse', max_depth=None,\n",
       "           max_features='auto', max_leaf_nodes=None, min_samples_leaf=1,\n",
       "           min_samples_split=2, min_weight_fraction_leaf=0.0,\n",
       "           n_estimators=10, n_jobs=1, oob_score=False, random_state=None,\n",
       "           verbose=0, warm_start=False)"
      ]
     },
     "execution_count": 96,
     "metadata": {},
     "output_type": "execute_result"
    }
   ],
   "source": [
    "model = ensemble.RandomForestRegressor()\n",
    "model.fit(X_train, y_train)"
   ]
  },
  {
   "cell_type": "code",
   "execution_count": 97,
   "metadata": {
    "collapsed": false
   },
   "outputs": [
    {
     "name": "stdout",
     "output_type": "stream",
     "text": [
      "models/ensemble-2017-01-16-18-52-18.pkl\n"
     ]
    }
   ],
   "source": [
    "flename = 'models/%s-%s.pkl' % (model_name, timestamp)\n",
    "\n",
    "joblib.dump(model, flename)\n",
    "\n",
    "log = '%s,%s\\n' % (flename, model)\n",
    "\n",
    "fle = open('model_log.csv', 'a')\n",
    "fle.write(log)\n",
    "fle.flush()\n",
    "fle.close()\n",
    "\n",
    "print flename"
   ]
  },
  {
   "cell_type": "code",
   "execution_count": 98,
   "metadata": {
    "collapsed": false
   },
   "outputs": [
    {
     "data": {
      "text/plain": [
       "0.13148890390252396"
      ]
     },
     "execution_count": 98,
     "metadata": {},
     "output_type": "execute_result"
    }
   ],
   "source": [
    "rmse = np.sqrt(metrics.mean_squared_error(y_test, model.predict(X_test)))\n",
    "rmse"
   ]
  },
  {
   "cell_type": "code",
   "execution_count": 99,
   "metadata": {
    "collapsed": false
   },
   "outputs": [
    {
     "name": "stderr",
     "output_type": "stream",
     "text": [
      "[Parallel(n_jobs=1)]: Done   1 tasks       | elapsed:    0.0s\n",
      "[Parallel(n_jobs=1)]: Done   4 tasks       | elapsed:    0.0s\n",
      "[Parallel(n_jobs=1)]: Done   7 tasks       | elapsed:    0.0s\n",
      "[Parallel(n_jobs=1)]: Done  12 tasks       | elapsed:    0.0s\n",
      "[Parallel(n_jobs=1)]: Done  17 tasks       | elapsed:    0.0s\n",
      "[Parallel(n_jobs=1)]: Done  24 tasks       | elapsed:    0.0s\n",
      "[Parallel(n_jobs=1)]: Done  31 tasks       | elapsed:    0.0s\n",
      "[Parallel(n_jobs=1)]: Done  40 tasks       | elapsed:    0.0s\n",
      "[Parallel(n_jobs=1)]: Done  49 tasks       | elapsed:    0.0s\n",
      "[Parallel(n_jobs=1)]: Done  60 tasks       | elapsed:    0.0s\n",
      "[Parallel(n_jobs=1)]: Done  71 tasks       | elapsed:    0.0s\n",
      "[Parallel(n_jobs=1)]: Done  84 tasks       | elapsed:    0.0s\n",
      "[Parallel(n_jobs=1)]: Done  97 tasks       | elapsed:    0.0s\n",
      "[Parallel(n_jobs=1)]: Done 112 tasks       | elapsed:    0.0s\n",
      "[Parallel(n_jobs=1)]: Done 127 tasks       | elapsed:    0.0s\n",
      "[Parallel(n_jobs=1)]: Done 144 tasks       | elapsed:    0.0s\n",
      "[Parallel(n_jobs=1)]: Done 161 tasks       | elapsed:    0.0s\n",
      "[Parallel(n_jobs=1)]: Done 180 tasks       | elapsed:    0.1s\n",
      "[Parallel(n_jobs=1)]: Done 199 tasks       | elapsed:    0.1s\n",
      "[Parallel(n_jobs=1)]: Done 220 tasks       | elapsed:    0.1s\n",
      "[Parallel(n_jobs=1)]: Done 241 tasks       | elapsed:    0.1s\n",
      "[Parallel(n_jobs=1)]: Done 264 tasks       | elapsed:    0.1s\n",
      "[Parallel(n_jobs=1)]: Done 287 tasks       | elapsed:    0.1s\n",
      "[Parallel(n_jobs=1)]: Done 312 tasks       | elapsed:    0.1s\n",
      "[Parallel(n_jobs=1)]: Done 337 tasks       | elapsed:    0.1s\n",
      "[Parallel(n_jobs=1)]: Done 364 tasks       | elapsed:    0.1s\n",
      "[Parallel(n_jobs=1)]: Done 391 tasks       | elapsed:    0.1s\n",
      "[Parallel(n_jobs=1)]: Done 420 tasks       | elapsed:    0.1s\n",
      "[Parallel(n_jobs=1)]: Done 449 tasks       | elapsed:    0.1s\n",
      "[Parallel(n_jobs=1)]: Done 480 tasks       | elapsed:    0.1s\n",
      "[Parallel(n_jobs=1)]: Done 511 tasks       | elapsed:    0.1s\n",
      "[Parallel(n_jobs=1)]: Done 544 tasks       | elapsed:    0.2s\n",
      "[Parallel(n_jobs=1)]: Done 577 tasks       | elapsed:    0.2s\n",
      "[Parallel(n_jobs=1)]: Done 612 tasks       | elapsed:    0.2s\n",
      "[Parallel(n_jobs=1)]: Done 647 tasks       | elapsed:    0.2s\n",
      "[Parallel(n_jobs=1)]: Done 684 tasks       | elapsed:    0.2s\n",
      "[Parallel(n_jobs=1)]: Done 721 tasks       | elapsed:    0.2s\n",
      "[Parallel(n_jobs=1)]: Done 760 tasks       | elapsed:    0.2s\n",
      "[Parallel(n_jobs=1)]: Done 799 tasks       | elapsed:    0.2s\n",
      "[Parallel(n_jobs=1)]: Done 840 tasks       | elapsed:    0.2s\n",
      "[Parallel(n_jobs=1)]: Done 881 tasks       | elapsed:    0.2s\n",
      "[Parallel(n_jobs=1)]: Done 924 tasks       | elapsed:    0.3s\n",
      "[Parallel(n_jobs=1)]: Done 967 tasks       | elapsed:    0.3s\n",
      "[Parallel(n_jobs=1)]: Done 1012 tasks       | elapsed:    0.3s\n",
      "[Parallel(n_jobs=1)]: Done 1057 tasks       | elapsed:    0.3s\n",
      "[Parallel(n_jobs=1)]: Done 1104 tasks       | elapsed:    0.3s\n",
      "[Parallel(n_jobs=1)]: Done 1151 tasks       | elapsed:    0.3s\n",
      "[Parallel(n_jobs=1)]: Done 1200 tasks       | elapsed:    0.3s\n",
      "[Parallel(n_jobs=1)]: Done 1249 tasks       | elapsed:    0.3s\n",
      "[Parallel(n_jobs=1)]: Done 1300 tasks       | elapsed:    0.4s\n",
      "[Parallel(n_jobs=1)]: Done 1351 tasks       | elapsed:    0.4s\n",
      "[Parallel(n_jobs=1)]: Done 1404 tasks       | elapsed:    0.4s\n",
      "[Parallel(n_jobs=1)]: Done 1457 tasks       | elapsed:    0.4s\n",
      "[Parallel(n_jobs=1)]: Done 1512 tasks       | elapsed:    0.4s\n",
      "[Parallel(n_jobs=1)]: Done 1567 tasks       | elapsed:    0.4s\n",
      "[Parallel(n_jobs=1)]: Done 1624 tasks       | elapsed:    0.4s\n",
      "[Parallel(n_jobs=1)]: Done 1681 tasks       | elapsed:    0.5s\n",
      "[Parallel(n_jobs=1)]: Done 1740 tasks       | elapsed:    0.5s\n",
      "[Parallel(n_jobs=1)]: Done 1799 tasks       | elapsed:    0.5s\n",
      "[Parallel(n_jobs=1)]: Done 1860 tasks       | elapsed:    0.5s\n",
      "[Parallel(n_jobs=1)]: Done 1921 tasks       | elapsed:    0.5s\n",
      "[Parallel(n_jobs=1)]: Done 1984 tasks       | elapsed:    0.5s\n",
      "[Parallel(n_jobs=1)]: Done 2047 tasks       | elapsed:    0.6s\n",
      "[Parallel(n_jobs=1)]: Done 2112 tasks       | elapsed:    0.6s\n",
      "[Parallel(n_jobs=1)]: Done 2177 tasks       | elapsed:    0.6s\n",
      "[Parallel(n_jobs=1)]: Done 2244 tasks       | elapsed:    0.6s\n",
      "[Parallel(n_jobs=1)]: Done 2311 tasks       | elapsed:    0.6s\n",
      "[Parallel(n_jobs=1)]: Done 2380 tasks       | elapsed:    0.6s\n",
      "[Parallel(n_jobs=1)]: Done 2449 tasks       | elapsed:    0.7s\n",
      "[Parallel(n_jobs=1)]: Done 2500 out of 2500 | elapsed:    0.7s finished\n"
     ]
    }
   ],
   "source": [
    "X_sub = test.ix[:,:-1]\n",
    "\n",
    "y_pred_ridge = ridge.predict(X_sub)\n",
    "y_pred_ridge_cv = ridge_cv.predict(X_sub)\n",
    "y_pred_rf = rf.predict(X_sub)\n",
    "y_pred_lin = lin.predict(X_sub)\n",
    "y_pred_elastic = elastic.predict(X_sub)\n",
    "y_pred_ada = ada.predict(X_sub)\n",
    "\n",
    "df = pd.DataFrame()\n",
    "df['ridge'] = y_pred_ridge.ravel()\n",
    "df['ridge_cv'] = y_pred_ridge_cv.ravel()\n",
    "df['ridge_rf'] = y_pred_rf.ravel()\n",
    "df['ridge_lin'] = y_pred_lin.ravel()\n",
    "df['elastic'] = y_pred_elastic.ravel()\n",
    "df['ada'] = y_pred_ada.ravel()"
   ]
  },
  {
   "cell_type": "code",
   "execution_count": 100,
   "metadata": {
    "collapsed": false
   },
   "outputs": [
    {
     "name": "stdout",
     "output_type": "stream",
     "text": [
      "submissions/submission-ensemble-2017-01-16-18-52-18.csv\n"
     ]
    }
   ],
   "source": [
    "# Submission\n",
    "#X_sub = test.ix[:,:-1]\n",
    "y_sub = np.expm1(model.predict(df))\n",
    "\n",
    "submission = pd.DataFrame()\n",
    "submission['Id'] = test.Id\n",
    "submission['SalePrice'] = y_sub\n",
    "\n",
    "flename = 'submissions/submission-%s-%s.csv' % (model_name, timestamp)\n",
    "submission.to_csv(flename, index=False)\n",
    "print flename"
   ]
  }
 ],
 "metadata": {
  "kernelspec": {
   "display_name": "Python 2",
   "language": "python",
   "name": "python2"
  },
  "language_info": {
   "codemirror_mode": {
    "name": "ipython",
    "version": 2
   },
   "file_extension": ".py",
   "mimetype": "text/x-python",
   "name": "python",
   "nbconvert_exporter": "python",
   "pygments_lexer": "ipython2",
   "version": "2.7.9"
  }
 },
 "nbformat": 4,
 "nbformat_minor": 1
}
